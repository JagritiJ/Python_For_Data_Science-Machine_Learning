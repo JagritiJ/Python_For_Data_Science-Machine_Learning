{
 "cells": [
  {
   "cell_type": "markdown",
   "metadata": {},
   "source": [
    "# Introduction\n",
    "Welcome to this module on Python for Data Science.\n",
    "\n",
    "  \n",
    "\n",
    "In this module\n",
    "In this module, we will be covering NumPy and Pandas that are the most used Python libraries for Data Science.\n",
    "\n",
    " \n",
    "\n",
    "This module will teach you the basics of NumPy which is the fundamental package for scientific computing in Python. NumPy consists of a powerful data structure called multidimensional arrays. Pandas is another powerful Python library that provides fast and easy data analysis platform. You will also learn about 'Data Visualisation in Python' in a separate module."
   ]
  },
  {
   "cell_type": "markdown",
   "metadata": {},
   "source": [
    " \n",
    "\n",
    "### Pre-requisite for this Module\n",
    "The students are expected to have gone through \"Intro to Python\" module before beginning with this module.\n",
    "\n",
    " \n",
    "\n",
    "In this session\n",
    "Understand advantages of vectorized code using Numpy (over standard python ways)\n",
    "Create NumPy arrays\n",
    "Convert lists and tuples to NumPy arrays\n",
    "Create (initialise) arrays\n",
    "Inspect the structure and content of arrays\n",
    "Subset, slice, index and iterate through arrays\n",
    "Compare computation times in NumPy and standard Python lists\n",
    " \n",
    "\n",
    "Guidelines for coding console questions\n",
    "The lectures are interspersed with coding consoles to help you practise writing Python code. You will be given a brief problem statement and some pre-written code. You can write the code in the provided space, verify your answer using test cases, and submit when you are confident about the answer.\n",
    "\n",
    " \n",
    "\n",
    "Note that the coding console questions are non-graded. Some instructions for these questions are as follows:\n",
    "\n",
    "Ignore the pre-written code on the console. Please don't change it.\n",
    "Write your answer where you're asked to write it.\n",
    "You may run and verify your codes any number of times.\n",
    "\n"
   ]
  },
  {
   "cell_type": "code",
   "execution_count": null,
   "metadata": {
    "collapsed": true
   },
   "outputs": [],
   "source": []
  }
 ],
 "metadata": {
  "kernelspec": {
   "display_name": "Python 3",
   "language": "python",
   "name": "python3"
  },
  "language_info": {
   "codemirror_mode": {
    "name": "ipython",
    "version": 3
   },
   "file_extension": ".py",
   "mimetype": "text/x-python",
   "name": "python",
   "nbconvert_exporter": "python",
   "pygments_lexer": "ipython3",
   "version": "3.6.3"
  }
 },
 "nbformat": 4,
 "nbformat_minor": 2
}
